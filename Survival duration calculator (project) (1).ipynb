{
 "cells": [
  {
   "cell_type": "code",
   "execution_count": 2,
   "id": "72bfefb5",
   "metadata": {},
   "outputs": [
    {
     "name": "stdout",
     "output_type": "stream",
     "text": [
      "Enter your age: 50\n",
      "Enter the time_unit(months,weeks,days,hours,minutes,seconds):days\n",
      "survival_age in days: 18250\n"
     ]
    }
   ],
   "source": [
    "\n",
    "\n",
    "age=int(input(\"Enter your age: \"))\n",
    "\n",
    "time_unit=input(\"Enter the time_unit(months,weeks,days,hours,minutes,seconds):\")\n",
    "\n",
    "\n",
    "months=age*12                  #12 months in one year\n",
    "weeks=age*52                   #52 weeks in one year\n",
    "days=age*365                   #365 days in one year\n",
    "hours=age*8766                 #8766 hours in one year \n",
    "minutes=age*525960             #525960 minutes per year\n",
    "seconds=age*31557600           #31557600 seconds in one year \n",
    "\n",
    "\n",
    "if time_unit==\"months\":\n",
    "    print('survival_age in months:',months)\n",
    "elif time_unit==\"weeks\":\n",
    "    print('survival_age in weeks:',weeks)\n",
    "elif time_unit==\"days\":\n",
    "    print('survival_age in days:',days)  \n",
    "elif time_unit==\"hours\":\n",
    "    print('survival_age in hours:',hours) \n",
    "elif time_unit==\"minutes\":\n",
    "    print('survival_age in minutes:',hours) \n",
    "elif time_unit==\"seconds\":\n",
    "    print('survival_age in seconds:',seconds)\n",
    "    \n",
    "else:\n",
    "    print('Invalid time_unit')\n",
    "    \n"
   ]
  },
  {
   "cell_type": "code",
   "execution_count": null,
   "id": "63ce6e3e",
   "metadata": {},
   "outputs": [],
   "source": []
  }
 ],
 "metadata": {
  "kernelspec": {
   "display_name": "Python 3 (ipykernel)",
   "language": "python",
   "name": "python3"
  },
  "language_info": {
   "codemirror_mode": {
    "name": "ipython",
    "version": 3
   },
   "file_extension": ".py",
   "mimetype": "text/x-python",
   "name": "python",
   "nbconvert_exporter": "python",
   "pygments_lexer": "ipython3",
   "version": "3.11.4"
  }
 },
 "nbformat": 4,
 "nbformat_minor": 5
}
